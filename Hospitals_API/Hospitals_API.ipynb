{
 "cells": [
  {
   "cell_type": "code",
   "execution_count": 29,
   "metadata": {
    "collapsed": true
   },
   "outputs": [],
   "source": [
    "import requests\n",
    "import pprint\n",
    "import json\n",
    "import mysql.connector\n",
    "\n",
    "state_code = \"FL\"\n",
    "\n",
    "\n",
    "url_all_hospitals = f\"http://www.communitybenefitinsight.org/api/get_hospitals.php?\"\n",
    "url_hospitals_per_state = f\"http://www.communitybenefitinsight.org/api/get_hospitals.php?state={state_code}\"\n",
    "\n",
    "payload = {}\n",
    "headers = {\n",
    "    'Cookie': 'PHPSESSID=nb9s8neh28dr9uuol0eg517l2m'\n",
    "}\n",
    "\n",
    "\n",
    "#hospitals for florida\n",
    "response_hospitals_per_state  = requests.request(\"GET\", url_hospitals_per_state, headers=headers, data=payload)\n",
    "\n",
    "#all Hospitals\n",
    "response_all_hospitals = requests.request(\"GET\", url_all_hospitals, headers=headers, data=payload)\n",
    "\n",
    "# Save the JSON object to a file\n",
    "with open(f\"hospital_data_per_state_{state_code}.json\", \"w\") as f:\n",
    "    json.dump(json.loads(response_hospitals_per_state.content), f, indent=4)\n",
    "\n",
    "p = pprint.PrettyPrinter(indent=4)\n",
    "data_all_hosp = json.loads(response_all_hospitals)\n",
    "data_state_hosp = json.loads(response_hospitals_per_state)\n",
    "#p.pprint(json.loads(response_hospitals_per_state.content))"
   ]
  },
  {
   "cell_type": "markdown",
   "metadata": {
    "collapsed": false
   },
   "source": [
    "Get hospitals per ID"
   ]
  },
  {
   "cell_type": "code",
   "execution_count": 27,
   "metadata": {
    "collapsed": false
   },
   "outputs": [],
   "source": [
    "hospital_id = \"2164\"\n",
    "\n",
    "url_hospital_data_per_id = f\"http://www.communitybenefitinsight.org/api/get_hospital_data.php?hospital_id={hospital_id}\"\n",
    "\n",
    "responce_hospital_data_per_id = requests.request(\"GET\", url_hospital_data_per_id, headers=headers, data=payload)\n",
    "\n",
    "# Save the JSON object to a file\n",
    "with open(f\"hospital_data_per_id_{hospital_id}.json\", \"w\") as f:\n",
    "    json.dump(json.loads(responce_hospital_data_per_id.content), f, indent=4)\n",
    "\n",
    "#p.pprint(json.loads(responce_hospital_data_per_id.content))"
   ]
  },
  {
   "cell_type": "code",
   "execution_count": 18,
   "metadata": {},
   "outputs": [
    {
     "name": "stdout",
     "output_type": "stream",
     "text": [
      "Shands Jacksonville Medical Center\n"
     ]
    }
   ],
   "source": [
    "#data = json.loads(json_string)\n",
    "#print((data[0]['name']))\n",
    "\n",
    "#print all ids where 'name' contains 'state'\n",
    "\n",
    "\n",
    "#for i in range(len(data)):\n",
    "    #if  'state' in (data[i]['name']).lower():\n",
    "        #print(data[i]['hospital_id'])"
   ]
  },
  {
   "cell_type": "code",
   "execution_count": 33,
   "metadata": {},
   "outputs": [],
   "source": [
    "#connect to mysql\n",
    "\n",
    "connection = mysql.connector.connect(\n",
    "    host='localhost',\n",
    "    user='root',\n",
    "    password='Konnag78!!',\n",
    "    database='mydb'\n",
    ")"
   ]
  },
  {
   "cell_type": "code",
   "execution_count": null,
   "metadata": {},
   "outputs": [],
   "source": []
  }
 ],
 "metadata": {
  "kernelspec": {
   "display_name": "Python 3",
   "language": "python",
   "name": "python3"
  },
  "language_info": {
   "codemirror_mode": {
    "name": "ipython",
    "version": 3
   },
   "file_extension": ".py",
   "mimetype": "text/x-python",
   "name": "python",
   "nbconvert_exporter": "python",
   "pygments_lexer": "ipython3",
   "version": "3.10.9"
  }
 },
 "nbformat": 4,
 "nbformat_minor": 0
}
