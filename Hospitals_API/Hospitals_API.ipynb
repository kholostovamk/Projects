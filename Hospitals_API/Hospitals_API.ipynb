{
 "cells": [
  {
   "cell_type": "code",
   "execution_count": 1,
   "metadata": {
    "collapsed": true
   },
   "outputs": [],
   "source": [
    "import requests\n",
    "import pprint\n",
    "import json\n",
    "import mysql.connector\n",
    "\n",
    "state_code = \"FL\"\n",
    "\n",
    "\n",
    "url_all_hospitals = f\"http://www.communitybenefitinsight.org/api/get_hospitals.php?\"\n",
    "url_hospitals_per_state = f\"http://www.communitybenefitinsight.org/api/get_hospitals.php?state={state_code}\"\n",
    "\n",
    "payload = {}\n",
    "headers = {\n",
    "    'Cookie': 'PHPSESSID=nb9s8neh28dr9uuol0eg517l2m'\n",
    "}\n",
    "\n",
    "\n",
    "#hospitals for florida\n",
    "response_hospitals_per_state  = requests.request(\"GET\", url_hospitals_per_state, headers=headers, data=payload)\n",
    "\n",
    "#all Hospitals\n",
    "response_all_hospitals = requests.request(\"GET\", url_all_hospitals, headers=headers, data=payload)\n",
    "\n",
    "# Save the JSON object to a file\n",
    "with open(f\"hospital_data_per_state_{state_code}.json\", \"w\") as f:\n",
    "    json.dump(json.loads(response_hospitals_per_state.content), f, indent=4)\n",
    "\n",
    "p = pprint.PrettyPrinter(indent=4)\n",
    "data_all_hosp = json.loads(response_all_hospitals.content)\n",
    "data_state_hosp = json.loads(response_hospitals_per_state.content)\n",
    "#p.pprint(json.loads(response_hospitals_per_state.content))"
   ]
  },
  {
   "cell_type": "markdown",
   "metadata": {
    "collapsed": false
   },
   "source": [
    "Get hospitals per ID"
   ]
  },
  {
   "cell_type": "code",
   "execution_count": 2,
   "metadata": {
    "collapsed": false
   },
   "outputs": [],
   "source": [
    "hospital_id = \"2164\"\n",
    "\n",
    "url_hospital_data_per_id = f\"http://www.communitybenefitinsight.org/api/get_hospital_data.php?hospital_id={hospital_id}\"\n",
    "\n",
    "responce_hospital_data_per_id = requests.request(\"GET\", url_hospital_data_per_id, headers=headers, data=payload)\n",
    "\n",
    "# Save the JSON object to a file\n",
    "with open(f\"hospital_data_per_id_{hospital_id}.json\", \"w\") as f:\n",
    "    json.dump(json.loads(responce_hospital_data_per_id.content), f, indent=4)\n",
    "\n",
    "#p.pprint(json.loads(responce_hospital_data_per_id.content))"
   ]
  },
  {
   "cell_type": "code",
   "execution_count": 4,
   "metadata": {},
   "outputs": [
    {
     "name": "stdout",
     "output_type": "stream",
     "text": [
      "Database mydb2 created successfully.\n"
     ]
    }
   ],
   "source": [
    "#connect to mysql with env. file\n",
    "\n",
    "from dotenv import load_dotenv\n",
    "import os\n",
    "import mysql.connector\n",
    "from mysql.connector import Error\n",
    "\n",
    "load_dotenv('personal_data.env')\n",
    "db_name = \"mydb2\"\n",
    "\n",
    "try: \n",
    "    connection = mysql.connector.connect(\n",
    "        host = os.getenv('DB_HOST'),\n",
    "        user = os.getenv('DB_USER'),\n",
    "        password = os.getenv('DB_PASSWORD')\n",
    "    )\n",
    "\n",
    "    mycursor = connection.cursor()\n",
    "    #creating a new database instead of connecting to the existing one\n",
    "    mycursor.execute(f\"create database IF NOT EXISTS {db_name}\")\n",
    "    print(f\"Database {db_name} created successfully.\")\n",
    "\n",
    "except Error as e:\n",
    "    print(f\"Error: {e}\")\n"
   ]
  },
  {
   "cell_type": "code",
   "execution_count": 17,
   "metadata": {},
   "outputs": [],
   "source": [
    "#selecting created database\n",
    "\n",
    "mycursor.execute(f\"USE {db_name}\")\n",
    "\n",
    "#dynamically create the table based on the first hospital keys\n",
    "\n",
    "if data_state_hosp:\n",
    "    first_hosp = data_state_hosp[0]\n",
    "    column_definitions = []\n",
    "    for column_name in first_hosp.keys():\n",
    "        #WE ARE ASSUMING ALL DATA IS IN STRING FORMAT FOR SIMPLICITY\n",
    "        column_definitions.append(f\"{column_name} VARCHAR(255)\")\n",
    "\n",
    "\n",
    "\n",
    "    #creating a table\n",
    "    table_name = \"stateHospitals\"\n",
    "    mycursor.execute(f\"create table if not exists {table_name} ({' ,'.join(column_definitions)})\")\n",
    "\n",
    "#insert all state data into the table\n",
    "for hospital in data_state_hosp:\n",
    "    columns = hospital.keys()\n",
    "    values = []\n",
    "    for value in hospital.values():\n",
    "        values.append(value)\n",
    "\n",
    "\n",
    "    insert_query = f\"insert into {table_name} ({', '.join(columns)}) values ({', '.join(['%s']*len(values))})\"\n",
    "    mycursor.execute(insert_query, list(values))\n",
    "\n",
    "    connection.commit()"
   ]
  },
  {
   "cell_type": "code",
   "execution_count": 20,
   "metadata": {},
   "outputs": [],
   "source": [
    "#change data type of bad count column for further calculations\n",
    "\n",
    "#ALTER TABLE table_name    \n",
    "#MODIFY column_name datatype;  \n",
    "mycursor.execute(f\"alter table {table_name} modify hospital_bed_count INT\")\n",
    "connection.commit()"
   ]
  },
  {
   "cell_type": "code",
   "execution_count": 39,
   "metadata": {},
   "outputs": [],
   "source": [
    "\"\"\"\n",
    "1. Separate by rural (where urban_location_f is 'N') and urban areas (where urban_location_f is 'Y')\n",
    "2. Calculate:\n",
    "the min, max, average, and total of hospital beds for the whole state\n",
    "\"\"\"\n",
    "#create dictionary to save calculations for both types of regions\n",
    "rural_calculations = {'Total beds count': None, \"Average\": None , \"Min\": None, \"Max\":None }\n",
    "urban_calculations = {'Total beds count': None, \"Average\": None , \"Min\": None, \"Max\":None }\n",
    "\n",
    "\n",
    "\n",
    "# Rural location\n",
    "\n",
    "#total beds\n",
    "mycursor.execute(f\"SELECT SUM(hospital_bed_count) FROM {table_name} WHERE urban_location_f = 'N'\")\n",
    "rural_calculations['Total beds count'] = float(mycursor.fetchone()[0])\n",
    "\n",
    "#average beds\n",
    "mycursor.execute(f\"SELECT avg(hospital_bed_count) FROM {table_name} WHERE urban_location_f = 'N'\")\n",
    "rural_calculations['Average'] = float(mycursor.fetchone()[0])\n",
    "\n",
    "#min beds\n",
    "mycursor.execute(f\"SELECT min(hospital_bed_count) FROM {table_name} WHERE urban_location_f = 'N'\")\n",
    "rural_calculations['Min'] = float(mycursor.fetchone()[0])\n",
    "\n",
    "#max beds\n",
    "mycursor.execute(f\"SELECT max(hospital_bed_count) FROM {table_name} WHERE urban_location_f = 'N'\")\n",
    "rural_calculations['Max'] = float(mycursor.fetchone()[0])\n",
    "\n",
    "#Urban location\n",
    "mycursor.execute(f\"SELECT SUM(hospital_bed_count) FROM {table_name} WHERE urban_location_f = 'Y'\")\n",
    "urban_calculations[\"Total beds count\"] = float(mycursor.fetchone()[0])\n",
    "\n",
    "#average beds\n",
    "mycursor.execute(f\"SELECT avg(hospital_bed_count) FROM {table_name} WHERE urban_location_f = 'Y'\")\n",
    "urban_calculations['Average'] = float(mycursor.fetchone()[0])\n",
    "\n",
    "#min beds\n",
    "mycursor.execute(f\"SELECT min(hospital_bed_count) FROM {table_name} WHERE urban_location_f = 'Y'\")\n",
    "urban_calculations['Min'] = float(mycursor.fetchone()[0])\n",
    "\n",
    "#max beds\n",
    "mycursor.execute(f\"SELECT max(hospital_bed_count) FROM {table_name} WHERE urban_location_f = 'Y'\")\n",
    "urban_calculations['Max'] = float(mycursor.fetchone()[0])"
   ]
  },
  {
   "cell_type": "code",
   "execution_count": 40,
   "metadata": {},
   "outputs": [
    {
     "name": "stdout",
     "output_type": "stream",
     "text": [
      "{'Average': 386.6163, 'Max': 3060.0, 'Min': 19.0, 'Total beds count': 66498.0}\n",
      "{'Average': 24.5714, 'Max': 48.0, 'Min': 4.0, 'Total beds count': 344.0}\n"
     ]
    }
   ],
   "source": [
    "pp = pprint.PrettyPrinter()\n",
    "pp.pprint(urban_calculations)\n",
    "\n",
    "pp.pprint(rural_calculations)"
   ]
  },
  {
   "cell_type": "code",
   "execution_count": null,
   "metadata": {},
   "outputs": [],
   "source": []
  }
 ],
 "metadata": {
  "kernelspec": {
   "display_name": "Python 3",
   "language": "python",
   "name": "python3"
  },
  "language_info": {
   "codemirror_mode": {
    "name": "ipython",
    "version": 3
   },
   "file_extension": ".py",
   "mimetype": "text/x-python",
   "name": "python",
   "nbconvert_exporter": "python",
   "pygments_lexer": "ipython3",
   "version": "3.10.9"
  }
 },
 "nbformat": 4,
 "nbformat_minor": 0
}
