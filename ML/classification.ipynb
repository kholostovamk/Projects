{
 "cells": [
  {
   "cell_type": "code",
   "execution_count": 1,
   "metadata": {},
   "outputs": [],
   "source": [
    "import pandas as pd\n",
    "import numpy as np\n",
    "import seaborn as sns\n",
    "import matplotlib.pyplot as plt\n"
   ]
  },
  {
   "cell_type": "code",
   "execution_count": 2,
   "metadata": {},
   "outputs": [
    {
     "name": "stdout",
     "output_type": "stream",
     "text": [
      "Shape (8932, 49)\n"
     ]
    },
    {
     "data": {
      "text/html": [
       "<div>\n",
       "<style scoped>\n",
       "    .dataframe tbody tr th:only-of-type {\n",
       "        vertical-align: middle;\n",
       "    }\n",
       "\n",
       "    .dataframe tbody tr th {\n",
       "        vertical-align: top;\n",
       "    }\n",
       "\n",
       "    .dataframe thead th {\n",
       "        text-align: right;\n",
       "    }\n",
       "</style>\n",
       "<table border=\"1\" class=\"dataframe\">\n",
       "  <thead>\n",
       "    <tr style=\"text-align: right;\">\n",
       "      <th></th>\n",
       "      <th>label</th>\n",
       "      <th>age</th>\n",
       "      <th>death</th>\n",
       "      <th>sex</th>\n",
       "      <th>slos</th>\n",
       "      <th>d.time</th>\n",
       "      <th>num.co</th>\n",
       "      <th>edu</th>\n",
       "      <th>scoma</th>\n",
       "      <th>charges</th>\n",
       "      <th>...</th>\n",
       "      <th>dzgroup_Lung Cancer</th>\n",
       "      <th>dzgroup_MOSF w/Malig</th>\n",
       "      <th>ca_metastatic</th>\n",
       "      <th>ca_no</th>\n",
       "      <th>ca_yes</th>\n",
       "      <th>income_$11-$25k</th>\n",
       "      <th>income_$25-$50k</th>\n",
       "      <th>income_&gt;$50k</th>\n",
       "      <th>income_under $11k</th>\n",
       "      <th>income_unknown</th>\n",
       "    </tr>\n",
       "  </thead>\n",
       "  <tbody>\n",
       "    <tr>\n",
       "      <th>0</th>\n",
       "      <td>0</td>\n",
       "      <td>62.84998</td>\n",
       "      <td>0</td>\n",
       "      <td>0</td>\n",
       "      <td>5</td>\n",
       "      <td>1740</td>\n",
       "      <td>0</td>\n",
       "      <td>11.000000</td>\n",
       "      <td>0.0</td>\n",
       "      <td>9715.0</td>\n",
       "      <td>...</td>\n",
       "      <td>1</td>\n",
       "      <td>0</td>\n",
       "      <td>1</td>\n",
       "      <td>0</td>\n",
       "      <td>0</td>\n",
       "      <td>1</td>\n",
       "      <td>0</td>\n",
       "      <td>0</td>\n",
       "      <td>0</td>\n",
       "      <td>0</td>\n",
       "    </tr>\n",
       "    <tr>\n",
       "      <th>1</th>\n",
       "      <td>1</td>\n",
       "      <td>60.33899</td>\n",
       "      <td>1</td>\n",
       "      <td>1</td>\n",
       "      <td>4</td>\n",
       "      <td>5</td>\n",
       "      <td>2</td>\n",
       "      <td>12.000000</td>\n",
       "      <td>44.0</td>\n",
       "      <td>34496.0</td>\n",
       "      <td>...</td>\n",
       "      <td>0</td>\n",
       "      <td>0</td>\n",
       "      <td>0</td>\n",
       "      <td>1</td>\n",
       "      <td>0</td>\n",
       "      <td>1</td>\n",
       "      <td>0</td>\n",
       "      <td>0</td>\n",
       "      <td>0</td>\n",
       "      <td>0</td>\n",
       "    </tr>\n",
       "    <tr>\n",
       "      <th>2</th>\n",
       "      <td>0</td>\n",
       "      <td>52.74698</td>\n",
       "      <td>1</td>\n",
       "      <td>1</td>\n",
       "      <td>17</td>\n",
       "      <td>47</td>\n",
       "      <td>2</td>\n",
       "      <td>12.000000</td>\n",
       "      <td>0.0</td>\n",
       "      <td>41094.0</td>\n",
       "      <td>...</td>\n",
       "      <td>0</td>\n",
       "      <td>0</td>\n",
       "      <td>0</td>\n",
       "      <td>1</td>\n",
       "      <td>0</td>\n",
       "      <td>0</td>\n",
       "      <td>0</td>\n",
       "      <td>0</td>\n",
       "      <td>1</td>\n",
       "      <td>0</td>\n",
       "    </tr>\n",
       "    <tr>\n",
       "      <th>3</th>\n",
       "      <td>0</td>\n",
       "      <td>42.38498</td>\n",
       "      <td>1</td>\n",
       "      <td>1</td>\n",
       "      <td>4</td>\n",
       "      <td>133</td>\n",
       "      <td>2</td>\n",
       "      <td>11.000000</td>\n",
       "      <td>0.0</td>\n",
       "      <td>3075.0</td>\n",
       "      <td>...</td>\n",
       "      <td>1</td>\n",
       "      <td>0</td>\n",
       "      <td>1</td>\n",
       "      <td>0</td>\n",
       "      <td>0</td>\n",
       "      <td>0</td>\n",
       "      <td>0</td>\n",
       "      <td>0</td>\n",
       "      <td>1</td>\n",
       "      <td>0</td>\n",
       "    </tr>\n",
       "    <tr>\n",
       "      <th>4</th>\n",
       "      <td>0</td>\n",
       "      <td>79.88495</td>\n",
       "      <td>0</td>\n",
       "      <td>1</td>\n",
       "      <td>16</td>\n",
       "      <td>1740</td>\n",
       "      <td>1</td>\n",
       "      <td>11.744707</td>\n",
       "      <td>26.0</td>\n",
       "      <td>50127.0</td>\n",
       "      <td>...</td>\n",
       "      <td>0</td>\n",
       "      <td>0</td>\n",
       "      <td>0</td>\n",
       "      <td>1</td>\n",
       "      <td>0</td>\n",
       "      <td>0</td>\n",
       "      <td>0</td>\n",
       "      <td>0</td>\n",
       "      <td>0</td>\n",
       "      <td>1</td>\n",
       "    </tr>\n",
       "  </tbody>\n",
       "</table>\n",
       "<p>5 rows × 49 columns</p>\n",
       "</div>"
      ],
      "text/plain": [
       "   label       age  death  sex  slos  d.time  num.co        edu  scoma  \\\n",
       "0      0  62.84998      0    0     5    1740       0  11.000000    0.0   \n",
       "1      1  60.33899      1    1     4       5       2  12.000000   44.0   \n",
       "2      0  52.74698      1    1    17      47       2  12.000000    0.0   \n",
       "3      0  42.38498      1    1     4     133       2  11.000000    0.0   \n",
       "4      0  79.88495      0    1    16    1740       1  11.744707   26.0   \n",
       "\n",
       "   charges  ...  dzgroup_Lung Cancer  dzgroup_MOSF w/Malig  ca_metastatic  \\\n",
       "0   9715.0  ...                    1                     0              1   \n",
       "1  34496.0  ...                    0                     0              0   \n",
       "2  41094.0  ...                    0                     0              0   \n",
       "3   3075.0  ...                    1                     0              1   \n",
       "4  50127.0  ...                    0                     0              0   \n",
       "\n",
       "   ca_no  ca_yes  income_$11-$25k  income_$25-$50k  income_>$50k  \\\n",
       "0      0       0                1                0             0   \n",
       "1      1       0                1                0             0   \n",
       "2      1       0                0                0             0   \n",
       "3      0       0                0                0             0   \n",
       "4      1       0                0                0             0   \n",
       "\n",
       "   income_under $11k  income_unknown  \n",
       "0                  0               0  \n",
       "1                  0               0  \n",
       "2                  1               0  \n",
       "3                  1               0  \n",
       "4                  0               1  \n",
       "\n",
       "[5 rows x 49 columns]"
      ]
     },
     "execution_count": 2,
     "metadata": {},
     "output_type": "execute_result"
    }
   ],
   "source": [
    "filename = 'cleaned_df.csv'\n",
    "\n",
    "df = pd.read_csv(filename)\n",
    "\n",
    "df = df.drop(columns='Unnamed: 0', axis=1)\n",
    "\n",
    "df = df.rename(columns={'hospdead': 'label'})\n",
    "\n",
    "#move label to the first position\n",
    "first_column = df.pop('label') \n",
    "df.insert(0, 'label', first_column) \n",
    "\n",
    "print('Shape', df.shape)\n",
    "df.head()"
   ]
  },
  {
   "cell_type": "code",
   "execution_count": 3,
   "metadata": {},
   "outputs": [
    {
     "name": "stdout",
     "output_type": "stream",
     "text": [
      "<class 'pandas.core.frame.DataFrame'>\n",
      "RangeIndex: 8932 entries, 0 to 8931\n",
      "Data columns (total 49 columns):\n",
      " #   Column                     Non-Null Count  Dtype  \n",
      "---  ------                     --------------  -----  \n",
      " 0   label                      8932 non-null   int64  \n",
      " 1   age                        8932 non-null   float64\n",
      " 2   death                      8932 non-null   int64  \n",
      " 3   sex                        8932 non-null   int64  \n",
      " 4   slos                       8932 non-null   int64  \n",
      " 5   d.time                     8932 non-null   int64  \n",
      " 6   num.co                     8932 non-null   int64  \n",
      " 7   edu                        8932 non-null   float64\n",
      " 8   scoma                      8932 non-null   float64\n",
      " 9   charges                    8932 non-null   float64\n",
      " 10  avtisst                    8932 non-null   float64\n",
      " 11  sps                        8932 non-null   float64\n",
      " 12  aps                        8932 non-null   float64\n",
      " 13  surv2m                     8932 non-null   float64\n",
      " 14  surv6m                     8932 non-null   float64\n",
      " 15  hday                       8932 non-null   int64  \n",
      " 16  diabetes                   8932 non-null   int64  \n",
      " 17  dementia                   8932 non-null   int64  \n",
      " 18  dnr                        8932 non-null   int64  \n",
      " 19  meanbp                     8932 non-null   float64\n",
      " 20  wblc                       8932 non-null   float64\n",
      " 21  hrt                        8932 non-null   float64\n",
      " 22  resp                       8932 non-null   float64\n",
      " 23  temp                       8932 non-null   float64\n",
      " 24  pafi                       8932 non-null   float64\n",
      " 25  alb                        8932 non-null   float64\n",
      " 26  bili                       8932 non-null   float64\n",
      " 27  crea                       8932 non-null   float64\n",
      " 28  sod                        8932 non-null   float64\n",
      " 29  ph                         8932 non-null   float64\n",
      " 30  bun                        8932 non-null   float64\n",
      " 31  urine                      8932 non-null   float64\n",
      " 32  adlsc                      8932 non-null   float64\n",
      " 33  dzgroup_ARF/MOSF w/Sepsis  8932 non-null   int64  \n",
      " 34  dzgroup_CHF                8932 non-null   int64  \n",
      " 35  dzgroup_COPD               8932 non-null   int64  \n",
      " 36  dzgroup_Cirrhosis          8932 non-null   int64  \n",
      " 37  dzgroup_Colon Cancer       8932 non-null   int64  \n",
      " 38  dzgroup_Coma               8932 non-null   int64  \n",
      " 39  dzgroup_Lung Cancer        8932 non-null   int64  \n",
      " 40  dzgroup_MOSF w/Malig       8932 non-null   int64  \n",
      " 41  ca_metastatic              8932 non-null   int64  \n",
      " 42  ca_no                      8932 non-null   int64  \n",
      " 43  ca_yes                     8932 non-null   int64  \n",
      " 44  income_$11-$25k            8932 non-null   int64  \n",
      " 45  income_$25-$50k            8932 non-null   int64  \n",
      " 46  income_>$50k               8932 non-null   int64  \n",
      " 47  income_under $11k          8932 non-null   int64  \n",
      " 48  income_unknown             8932 non-null   int64  \n",
      "dtypes: float64(23), int64(26)\n",
      "memory usage: 3.3 MB\n"
     ]
    },
    {
     "data": {
      "text/plain": [
       "(None,\n",
       "    label       age  death  sex  slos  d.time  num.co        edu  scoma  \\\n",
       " 0      0  62.84998      0    0     5    1740       0  11.000000    0.0   \n",
       " 1      1  60.33899      1    1     4       5       2  12.000000   44.0   \n",
       " 2      0  52.74698      1    1    17      47       2  12.000000    0.0   \n",
       " 3      0  42.38498      1    1     4     133       2  11.000000    0.0   \n",
       " 4      0  79.88495      0    1    16    1740       1  11.744707   26.0   \n",
       " \n",
       "    charges  ...  dzgroup_Lung Cancer  dzgroup_MOSF w/Malig  ca_metastatic  \\\n",
       " 0   9715.0  ...                    1                     0              1   \n",
       " 1  34496.0  ...                    0                     0              0   \n",
       " 2  41094.0  ...                    0                     0              0   \n",
       " 3   3075.0  ...                    1                     0              1   \n",
       " 4  50127.0  ...                    0                     0              0   \n",
       " \n",
       "    ca_no  ca_yes  income_$11-$25k  income_$25-$50k  income_>$50k  \\\n",
       " 0      0       0                1                0             0   \n",
       " 1      1       0                1                0             0   \n",
       " 2      1       0                0                0             0   \n",
       " 3      0       0                0                0             0   \n",
       " 4      1       0                0                0             0   \n",
       " \n",
       "    income_under $11k  income_unknown  \n",
       " 0                  0               0  \n",
       " 1                  0               0  \n",
       " 2                  1               0  \n",
       " 3                  1               0  \n",
       " 4                  0               1  \n",
       " \n",
       " [5 rows x 49 columns])"
      ]
     },
     "execution_count": 3,
     "metadata": {},
     "output_type": "execute_result"
    }
   ],
   "source": [
    "data_info = df.info()\n",
    "data_head = df.head()\n",
    "\n",
    "data_info, data_head"
   ]
  },
  {
   "cell_type": "markdown",
   "metadata": {},
   "source": [
    "Figuring out what features to use for predicting in two steps:\n",
    "1. Using correlation\n",
    "2. Using Random Forest Classifier"
   ]
  },
  {
   "cell_type": "code",
   "execution_count": 4,
   "metadata": {},
   "outputs": [
    {
     "name": "stdout",
     "output_type": "stream",
     "text": [
      "                      Correlation with label\n",
      "dnr                                 0.564842\n",
      "surv2m                              0.556427\n",
      "avtisst                             0.546697\n",
      "surv6m                              0.497097\n",
      "d.time                              0.493279\n",
      "aps                                 0.470998\n",
      "sps                                 0.465563\n",
      "death                               0.402489\n",
      "scoma                               0.378375\n",
      "hday                                0.276578\n",
      "dzgroup_Coma                        0.210134\n",
      "dzgroup_CHF                         0.188887\n",
      "charges                             0.187240\n",
      "dzgroup_MOSF w/Malig                0.176371\n",
      "bili                                0.147797\n"
     ]
    }
   ],
   "source": [
    "\"\"\"Calculating correlation with label among features\"\"\"\n",
    "\n",
    "# Calculate the correlation with 'label'\n",
    "correlation_with_label = df.corrwith(df['label']).to_frame()\n",
    "correlation_with_label.columns = ['Correlation with label']\n",
    "\n",
    "# Drop the 'label' column from the correlation results\n",
    "correlation_with_label = correlation_with_label.drop(labels=['label'])\n",
    "\n",
    "#Sort the DataFrame by the 'Correlation with label' column\n",
    "correlation_with_label = correlation_with_label.sort_values(by='Correlation with label', ascending=False)\n",
    "\n",
    "\n",
    "\n",
    "# Sort the values by the 'Correlation with label' column\n",
    "corr_features = correlation_with_label.abs().sort_values(by='Correlation with label', ascending=False)\n",
    "top_corr_features = corr_features.head(15)\n",
    "\n",
    "print(top_corr_features)\n"
   ]
  },
  {
   "cell_type": "code",
   "execution_count": 5,
   "metadata": {},
   "outputs": [
    {
     "name": "stdout",
     "output_type": "stream",
     "text": [
      "d.time     0.295056\n",
      "dnr        0.105938\n",
      "avtisst    0.099175\n",
      "surv2m     0.061793\n",
      "death      0.047480\n",
      "aps        0.043087\n",
      "surv6m     0.040665\n",
      "charges    0.034684\n",
      "slos       0.033546\n",
      "sps        0.031713\n",
      "scoma      0.020191\n",
      "hday       0.013565\n",
      "age        0.010717\n",
      "meanbp     0.009596\n",
      "wblc       0.009188\n",
      "dtype: float64\n"
     ]
    }
   ],
   "source": [
    "\"\"\"Using Random forest classifier\"\"\"\n",
    "\n",
    "from sklearn.ensemble import RandomForestClassifier\n",
    "\n",
    "X = df.drop('label', axis=1)  # Features\n",
    "y = df['label']              # Target\n",
    "\n",
    "# Initialize the Random Forest Classifier\n",
    "rf = RandomForestClassifier(n_estimators=100, random_state=42)\n",
    "\n",
    "# Fit the model to your data\n",
    "rf.fit(X, y)\n",
    "\n",
    "# Get feature importances\n",
    "feature_importances = rf.feature_importances_\n",
    "\n",
    "# Create a Series for feature importances\n",
    "rf_features = pd.Series(feature_importances, index=X.columns).sort_values(ascending=False)\n",
    "\n",
    "top_rf_features = rf_features.head(15)\n",
    "\n",
    "# Print the feature importances\n",
    "print(top_rf_features)\n"
   ]
  },
  {
   "cell_type": "markdown",
   "metadata": {},
   "source": [
    "By considering both lists, we can ensure that the selected features are not only statistically significant but also have practical relevance in the model's predictions."
   ]
  },
  {
   "cell_type": "code",
   "execution_count": 6,
   "metadata": {},
   "outputs": [
    {
     "name": "stdout",
     "output_type": "stream",
     "text": [
      "Set of features for predicting:  ['aps', 'dnr', 'd.time', 'charges', 'surv6m', 'sps', 'hday', 'avtisst', 'scoma', 'surv2m']\n",
      "Set with more features for improving model if needed:  ['aps', 'dnr', 'd.time', 'charges', 'surv6m', 'sps', 'hday', 'avtisst', 'scoma', 'surv2m', 'death']\n"
     ]
    }
   ],
   "source": [
    "#features mixed from two methods correlation check and random forest\n",
    "\n",
    "rf_feature_list = top_rf_features.index.tolist()\n",
    "corr_feature_list = top_corr_features.index.tolist()\n",
    "\n",
    "combined_features = list(set(rf_feature_list) & set(corr_feature_list))  # Intersection\n",
    "\n",
    "final_features = combined_features[:10]\n",
    "\n",
    "print(\"Set of features for predicting: \", final_features)\n",
    "print(\"Set with more features for improving model if needed: \", combined_features)"
   ]
  },
  {
   "cell_type": "code",
   "execution_count": 7,
   "metadata": {},
   "outputs": [
    {
     "name": "stdout",
     "output_type": "stream",
     "text": [
      "label\n",
      "0    6633\n",
      "1    2299\n",
      "Name: count, dtype: int64\n"
     ]
    },
    {
     "data": {
      "image/png": "[encoded data removed]",
      "text/plain": [
       "<Figure size 640x480 with 1 Axes>"
      ]
     },
     "metadata": {},
     "output_type": "display_data"
    }
   ],
   "source": [
    "#check how many values of each label value\n",
    "\n",
    "class_values = df['label'].value_counts()\n",
    "print(class_values)\n",
    "\n",
    "# Count the values of the 'label' column\n",
    "class_values = df['label'].value_counts().reset_index()\n",
    "\n",
    "# Rename columns for clarity in the plot\n",
    "class_values.columns = ['Label', 'Count']\n",
    "\n",
    "# Create the bar plot\n",
    "sns.barplot(x='Label', y='Count', data=class_values)\n",
    "plt.show()"
   ]
  },
  {
   "cell_type": "markdown",
   "metadata": {},
   "source": [
    "Class imbalance problem? \n",
    "Solutions:\n",
    "1. Under/Oversampling. \n",
    "2. Modify weight on a loss functin is the second option. \n",
    "3. Synthetic Minority Oversampling Technique (SMOTE)\n",
    "##### Will fix when separating by test and training data\n",
    "https://www.analyticsvidhya.com/blog/2020/07/10-techniques-to-deal-with-class-imbalance-in-machine-learning/#Resampling_Techniques_to_Solve_Class_Imbalance"
   ]
  },
  {
   "cell_type": "markdown",
   "metadata": {},
   "source": [
    "To build logistic regression  - it is important to normalize features."
   ]
  },
  {
   "cell_type": "markdown",
   "metadata": {},
   "source": [
    "The Synthetic Minority Oversampling Technique (SMOTE) is used to over-sample the minority class in a dataset and make the class distribution balanced. This technique generates synthetic samples rather than creating copies of existing samples."
   ]
  },
  {
   "cell_type": "code",
   "execution_count": 8,
   "metadata": {},
   "outputs": [
    {
     "name": "stdout",
     "output_type": "stream",
     "text": [
      "Before SMOTE '1': 1593\n",
      "Before SMOTE '0': 4659 \n",
      "\n",
      "After SMOTE '1': 4659\n",
      "After SMOTE '0': 4659\n"
     ]
    }
   ],
   "source": [
    "\n",
    "from sklearn.model_selection import train_test_split\n",
    "from imblearn.over_sampling import SMOTE\n",
    "\n",
    "\n",
    "# Separate input features and target\n",
    "X = df.drop('label', axis=1)\n",
    "y = df['label']\n",
    "\n",
    "# Split the data into training and testing sets\n",
    "X_train, X_test, y_train, y_test = train_test_split(X, y, test_size=0.3, random_state=42)\n",
    "\n",
    "# Summarize class distribution\n",
    "print(\"Before SMOTE '1': {}\".format(sum(y_train == 1)))\n",
    "print(\"Before SMOTE '0': {} \\n\".format(sum(y_train == 0)))\n",
    "\n",
    "# Apply SMOTE\n",
    "smote = SMOTE(random_state=42)\n",
    "X_train_smote, y_train_smote = smote.fit_resample(X_train, y_train)\n",
    "\n",
    "print(\"After SMOTE '1': {}\".format(sum(y_train_smote == 1)))\n",
    "print(\"After SMOTE '0': {}\".format(sum(y_train_smote == 0)))"
   ]
  },
  {
   "cell_type": "markdown",
   "metadata": {},
   "source": [
    "## Decision Tree"
   ]
  },
  {
   "cell_type": "markdown",
   "metadata": {},
   "source": [
    "Conducting GridSearch for finding best parametrs for the tree classifier."
   ]
  },
  {
   "cell_type": "code",
   "execution_count": 9,
   "metadata": {},
   "outputs": [
    {
     "name": "stdout",
     "output_type": "stream",
     "text": [
      "Fitting 5 folds for each of 108 candidates, totalling 540 fits\n"
     ]
    },
    {
     "name": "stdout",
     "output_type": "stream",
     "text": [
      "Best parameters found:  {'criterion': 'entropy', 'max_depth': None, 'min_samples_leaf': 1, 'min_samples_split': 2}\n"
     ]
    }
   ],
   "source": [
    "from sklearn.tree import DecisionTreeClassifier\n",
    "from sklearn.model_selection import GridSearchCV\n",
    "\n",
    "# Define the parameter grid to search\n",
    "param_grid = {\n",
    "    'criterion': ['gini', 'entropy'],\n",
    "    'max_depth': [None, 10, 20, 30, 40, 50],\n",
    "    'min_samples_split': [2, 5, 10],\n",
    "    'min_samples_leaf': [1, 2, 4]\n",
    "}\n",
    "\n",
    "# Initialize the Decision Tree Classifier\n",
    "dt_classifier = DecisionTreeClassifier(random_state=42)\n",
    "\n",
    "# Initialize GridSearchCV\n",
    "grid_search = GridSearchCV(estimator=dt_classifier, param_grid=param_grid, \n",
    "                           cv=5, n_jobs=-1, verbose=1, scoring='accuracy')\n",
    "\n",
    "# Fit GridSearchCV to the balanced training data\n",
    "X_train_smote_selected = X_train_smote[final_features]  # Make sure final_features is defined\n",
    "grid_search.fit(X_train_smote_selected, y_train_smote)\n",
    "\n",
    "# Print the best parameters\n",
    "print(\"Best parameters found: \", grid_search.best_params_)\n"
   ]
  },
  {
   "cell_type": "markdown",
   "metadata": {},
   "source": [
    "First try of the tree - without Grid Search"
   ]
  },
  {
   "cell_type": "code",
   "execution_count": 10,
   "metadata": {},
   "outputs": [
    {
     "name": "stdout",
     "output_type": "stream",
     "text": [
      "Classification Report:\n",
      "              precision    recall  f1-score   support\n",
      "\n",
      "           0       0.97      0.96      0.96      1974\n",
      "           1       0.89      0.91      0.90       706\n",
      "\n",
      "    accuracy                           0.95      2680\n",
      "   macro avg       0.93      0.93      0.93      2680\n",
      "weighted avg       0.95      0.95      0.95      2680\n",
      "\n",
      "Confusion Matrix:\n",
      "[[1896   78]\n",
      " [  64  642]]\n"
     ]
    }
   ],
   "source": [
    "\n",
    "from sklearn.metrics import classification_report, confusion_matrix\n",
    "\n",
    "# Select only the features in final_features for both training and testing sets\n",
    "X_train_smote_selected = X_train_smote[final_features]\n",
    "X_test_selected = X_test[final_features]\n",
    "\n",
    "# Initialize the Decision Tree Classifier\n",
    "dt_classifier = DecisionTreeClassifier(random_state=42)\n",
    "\n",
    "# Fit the classifier to the balanced training data\n",
    "dt_classifier.fit(X_train_smote_selected, y_train_smote)\n",
    "\n",
    "# Make predictions on the test set\n",
    "y_pred = dt_classifier.predict(X_test_selected)\n",
    "\n",
    "# Evaluate the classifier\n",
    "print(\"Classification Report:\")\n",
    "print(classification_report(y_test, y_pred))\n",
    "\n",
    "print(\"Confusion Matrix:\")\n",
    "print(confusion_matrix(y_test, y_pred))\n"
   ]
  },
  {
   "cell_type": "markdown",
   "metadata": {},
   "source": [
    "Second Tree with Grid Search"
   ]
  },
  {
   "cell_type": "code",
   "execution_count": 11,
   "metadata": {},
   "outputs": [
    {
     "name": "stdout",
     "output_type": "stream",
     "text": [
      "Classification Report:\n",
      "              precision    recall  f1-score   support\n",
      "\n",
      "           0       0.97      0.96      0.97      1974\n",
      "           1       0.90      0.93      0.91       706\n",
      "\n",
      "    accuracy                           0.95      2680\n",
      "   macro avg       0.94      0.95      0.94      2680\n",
      "weighted avg       0.95      0.95      0.95      2680\n",
      "\n",
      "Confusion Matrix:\n",
      "[[1900   74]\n",
      " [  49  657]]\n"
     ]
    }
   ],
   "source": [
    "from sklearn.metrics import classification_report, confusion_matrix\n",
    "from sklearn.tree import DecisionTreeClassifier\n",
    "\n",
    "# Select only the features in final_features for both training and testing sets\n",
    "X_train_smote_selected = X_train_smote[final_features]\n",
    "X_test_selected = X_test[final_features]\n",
    "\n",
    "# Initialize the Decision Tree Classifier with the best parameters found by GridSearchCV\n",
    "best_params = grid_search.best_params_\n",
    "dt_classifier = DecisionTreeClassifier(**best_params, random_state=42)\n",
    "\n",
    "# Fit the classifier to the balanced training data\n",
    "dt_classifier.fit(X_train_smote_selected, y_train_smote)\n",
    "\n",
    "# Make predictions on the test set\n",
    "y_pred = dt_classifier.predict(X_test_selected)\n",
    "\n",
    "# Evaluate the classifier\n",
    "print(\"Classification Report:\")\n",
    "print(classification_report(y_test, y_pred))\n",
    "\n",
    "print(\"Confusion Matrix:\")\n",
    "cm=confusion_matrix(y_test, y_pred)\n",
    "print(cm)\n"
   ]
  },
  {
   "cell_type": "markdown",
   "metadata": {},
   "source": [
    "- Accuracy: The second model (0.83) is slightly more accurate than the first one (0.82)\n",
    "\n",
    "- Precision for Class 1: Second model has sligtly the higher precision for class 1 (0.89).\n",
    "\n",
    "- Recall for Class 1: The second model has a higher recall for class 1 (0.92 vs. 0.94). This means it is better at correctly identifying the positive class.\n",
    "\n",
    "- F1-Score for Class 1: The second model also has a higher F1-score for class 1 (0.92 vs. 0.90), indicating a better balance between precision and recall for the positive class.\n",
    "\n",
    "- Overall Macro and Weighted Averages: The second model has higher macro and weighted averages for precision, recall, and F1-score, indicating better overall performance across both classes.\n",
    "\n",
    "Based on these metrics, the second classification report indicates a slightly better performance, especially in terms of recall and the F1-score for class 1. "
   ]
  },
  {
   "cell_type": "code",
   "execution_count": 12,
   "metadata": {},
   "outputs": [
    {
     "name": "stdout",
     "output_type": "stream",
     "text": [
      "Confusion Matrix:\n",
      "[[1900   74]\n",
      " [  49  657]]\n"
     ]
    },
    {
     "data": {
      "image/png": "[encoded data removed]",
      "text/plain": [
       "<Figure size 800x600 with 2 Axes>"
      ]
     },
     "metadata": {},
     "output_type": "display_data"
    }
   ],
   "source": [
    "# Print the confusion matrix\n",
    "print(\"Confusion Matrix:\")\n",
    "print(cm)\n",
    "\n",
    "# Optionally, you can create a more visual representation of the confusion matrix\n",
    "plt.figure(figsize=(8, 6))\n",
    "sns.heatmap(cm, annot=True, fmt='d', cmap='Blues')\n",
    "plt.xlabel('Predicted')\n",
    "plt.ylabel('True')\n",
    "plt.title('Confusion Matrix')\n",
    "plt.show()"
   ]
  },
  {
   "cell_type": "code",
   "execution_count": 13,
   "metadata": {},
   "outputs": [
    {
     "name": "stdout",
     "output_type": "stream",
     "text": [
      "Accuracy scores for each fold are: [0.9418019  0.94851707 0.95240761 0.95800672 0.92217245]\n",
      "Mean cross-validation accuracy: 0.9445811512911153\n",
      "Standard deviation of cross-validation accuracy: 0.012384384069440707\n"
     ]
    }
   ],
   "source": [
    "from sklearn.model_selection import cross_val_score\n",
    "\n",
    "# Cross-validation\n",
    "scores = cross_val_score(dt_classifier, X[final_features], y, cv=5, scoring='accuracy')\n",
    "\n",
    "print(\"Accuracy scores for each fold are:\", scores)\n",
    "print(\"Mean cross-validation accuracy:\", scores.mean())\n",
    "print(\"Standard deviation of cross-validation accuracy:\", scores.std())\n"
   ]
  },
  {
   "cell_type": "markdown",
   "metadata": {},
   "source": [
    "The low standard deviation in the accuracy scores indicates that model is stable, showing similar performance across different data samples. This suggests good generalizability to unseen data. The range of accuracy scores is tight, which implies consistent performance. There are no significant outliers or folds where the model performs exceptionally poorly or exceptionally well, which is a positive indicator of model reliability.\n",
    "The model appears to be performing well with an average accuracy of around 94.8%, and it seems to generalize well across different subsets of the data."
   ]
  },
  {
   "cell_type": "markdown",
   "metadata": {},
   "source": [
    "## Logistic Regression"
   ]
  },
  {
   "cell_type": "code",
   "execution_count": 14,
   "metadata": {},
   "outputs": [
    {
     "name": "stdout",
     "output_type": "stream",
     "text": [
      "Classification Report:\n",
      "              precision    recall  f1-score   support\n",
      "\n",
      "           0       0.99      0.93      0.96      1974\n",
      "           1       0.83      0.96      0.89       706\n",
      "\n",
      "    accuracy                           0.94      2680\n",
      "   macro avg       0.91      0.95      0.93      2680\n",
      "weighted avg       0.95      0.94      0.94      2680\n",
      "\n",
      "Confusion Matrix:\n",
      "[[1838  136]\n",
      " [  25  681]]\n",
      "Accuracy: 0.9399253731343283\n"
     ]
    }
   ],
   "source": [
    "from sklearn.preprocessing import StandardScaler\n",
    "from sklearn.model_selection import train_test_split\n",
    "from sklearn.linear_model import LogisticRegression\n",
    "from imblearn.over_sampling import SMOTE\n",
    "from sklearn.metrics import classification_report, confusion_matrix, accuracy_score\n",
    "\n",
    "# Separate input features and target\n",
    "X = df[final_features]  # Using your final selected features\n",
    "y = df['label']\n",
    "\n",
    "# Split the data into training and testing sets\n",
    "X_train, X_test, y_train, y_test = train_test_split(X, y, test_size=0.3, random_state=42)\n",
    "\n",
    "# Apply SMOTE to balance the training data\n",
    "smote = SMOTE(random_state=42)\n",
    "X_train_smote, y_train_smote = smote.fit_resample(X_train, y_train)\n",
    "\n",
    "# Initialize the StandardScaler\n",
    "scaler = StandardScaler()\n",
    "\n",
    "# Fit and transform the scaled training data (after SMOTE) and transform the testing data\n",
    "X_train_scaled = scaler.fit_transform(X_train_smote)\n",
    "X_test_scaled = scaler.transform(X_test)\n",
    "\n",
    "# Initialize the Logistic Regression model\n",
    "log_reg = LogisticRegression(random_state=42)\n",
    "\n",
    "# Fit the model on the scaled and balanced training data\n",
    "log_reg.fit(X_train_scaled, y_train_smote)\n",
    "\n",
    "# Making predictions on the test set\n",
    "y_pred = log_reg.predict(X_test_scaled)\n",
    "\n",
    "# Evaluating the model\n",
    "# Printing the classification report\n",
    "print(\"Classification Report:\")\n",
    "print(classification_report(y_test, y_pred))\n",
    "\n",
    "# Printing the confusion matrix\n",
    "print(\"Confusion Matrix:\")\n",
    "print(confusion_matrix(y_test, y_pred))\n",
    "\n",
    "# Printing the accuracy\n",
    "accuracy = accuracy_score(y_test, y_pred)\n",
    "print(\"Accuracy:\", accuracy)"
   ]
  },
  {
   "cell_type": "code",
   "execution_count": 15,
   "metadata": {},
   "outputs": [
    {
     "data": {
      "image/png": "[encoded data removed]",
      "text/plain": [
       "<Figure size 800x600 with 1 Axes>"
      ]
     },
     "metadata": {},
     "output_type": "display_data"
    }
   ],
   "source": [
    "from sklearn.metrics import roc_curve, auc\n",
    "import matplotlib.pyplot as plt\n",
    "\n",
    "# Predict probabilities for the test set\n",
    "y_probs = log_reg.predict_proba(X_test_scaled)[:, 1]  # Probability estimates for the positive class\n",
    "\n",
    "# Compute ROC curve and AUC\n",
    "fpr, tpr, thresholds = roc_curve(y_test, y_probs)\n",
    "roc_auc = auc(fpr, tpr)\n",
    "\n",
    "# Plotting the ROC Curve\n",
    "plt.figure(figsize=(8, 6))\n",
    "plt.plot(fpr, tpr, color='darkorange', lw=2, label=f'ROC curve (area = {roc_auc:.2f})')\n",
    "plt.plot([0, 1], [0, 1], color='navy', lw=2, linestyle='--')\n",
    "plt.xlim([0.0, 1.0])\n",
    "plt.ylim([0.0, 1.05])\n",
    "plt.xlabel('False Positive Rate')\n",
    "plt.ylabel('True Positive Rate')\n",
    "plt.title('Receiver Operating Characteristic (ROC)')\n",
    "plt.legend(loc=\"lower right\")\n",
    "plt.show()\n"
   ]
  },
  {
   "cell_type": "markdown",
   "metadata": {},
   "source": [
    "The AUC value ranges from 0 to 1, with higher values indicating better model performance. A model with an AUC close to 1 is considered to have good separability between the classes, whereas an AUC close to 0.5 suggests no discriminative power, akin to random guessing."
   ]
  },
  {
   "cell_type": "markdown",
   "metadata": {},
   "source": [
    "To improve LogisticRegression results we can try GridSearchCV with some hyperparametrs like C (Inverse of regularization strength) where smaller values specify stronger regularization which is applied to avoid overfitting by penalizing large coefficients, penalty and solver (Algorithm to use in the optimization problem)."
   ]
  },
  {
   "cell_type": "code",
   "execution_count": 16,
   "metadata": {},
   "outputs": [
    {
     "name": "stdout",
     "output_type": "stream",
     "text": [
      "Fitting 5 folds for each of 24 candidates, totalling 120 fits\n"
     ]
    },
    {
     "name": "stderr",
     "output_type": "stream",
     "text": [
      "/Users/admin/anaconda3/lib/python3.10/site-packages/sklearn/linear_model/_sag.py:350: ConvergenceWarning: The max_iter was reached which means the coef_ did not converge\n",
      "  warnings.warn(\n",
      "/Users/admin/anaconda3/lib/python3.10/site-packages/sklearn/linear_model/_sag.py:350: ConvergenceWarning: The max_iter was reached which means the coef_ did not converge\n",
      "  warnings.warn(\n",
      "/Users/admin/anaconda3/lib/python3.10/site-packages/sklearn/linear_model/_sag.py:350: ConvergenceWarning: The max_iter was reached which means the coef_ did not converge\n",
      "  warnings.warn(\n",
      "/Users/admin/anaconda3/lib/python3.10/site-packages/sklearn/linear_model/_sag.py:350: ConvergenceWarning: The max_iter was reached which means the coef_ did not converge\n",
      "  warnings.warn(\n",
      "/Users/admin/anaconda3/lib/python3.10/site-packages/sklearn/linear_model/_sag.py:350: ConvergenceWarning: The max_iter was reached which means the coef_ did not converge\n",
      "  warnings.warn(\n",
      "/Users/admin/anaconda3/lib/python3.10/site-packages/sklearn/linear_model/_sag.py:350: ConvergenceWarning: The max_iter was reached which means the coef_ did not converge\n",
      "  warnings.warn(\n",
      "/Users/admin/anaconda3/lib/python3.10/site-packages/sklearn/linear_model/_sag.py:350: ConvergenceWarning: The max_iter was reached which means the coef_ did not converge\n",
      "  warnings.warn(\n",
      "/Users/admin/anaconda3/lib/python3.10/site-packages/sklearn/linear_model/_sag.py:350: ConvergenceWarning: The max_iter was reached which means the coef_ did not converge\n",
      "  warnings.warn(\n",
      "/Users/admin/anaconda3/lib/python3.10/site-packages/sklearn/linear_model/_sag.py:350: ConvergenceWarning: The max_iter was reached which means the coef_ did not converge\n",
      "  warnings.warn(\n",
      "/Users/admin/anaconda3/lib/python3.10/site-packages/sklearn/linear_model/_sag.py:350: ConvergenceWarning: The max_iter was reached which means the coef_ did not converge\n",
      "  warnings.warn(\n",
      "/Users/admin/anaconda3/lib/python3.10/site-packages/sklearn/linear_model/_sag.py:350: ConvergenceWarning: The max_iter was reached which means the coef_ did not converge\n",
      "  warnings.warn(\n",
      "/Users/admin/anaconda3/lib/python3.10/site-packages/sklearn/linear_model/_sag.py:350: ConvergenceWarning: The max_iter was reached which means the coef_ did not converge\n",
      "  warnings.warn(\n",
      "/Users/admin/anaconda3/lib/python3.10/site-packages/sklearn/linear_model/_sag.py:350: ConvergenceWarning: The max_iter was reached which means the coef_ did not converge\n",
      "  warnings.warn(\n",
      "/Users/admin/anaconda3/lib/python3.10/site-packages/sklearn/linear_model/_sag.py:350: ConvergenceWarning: The max_iter was reached which means the coef_ did not converge\n",
      "  warnings.warn(\n",
      "/Users/admin/anaconda3/lib/python3.10/site-packages/sklearn/linear_model/_sag.py:350: ConvergenceWarning: The max_iter was reached which means the coef_ did not converge\n",
      "  warnings.warn(\n",
      "/Users/admin/anaconda3/lib/python3.10/site-packages/sklearn/linear_model/_sag.py:350: ConvergenceWarning: The max_iter was reached which means the coef_ did not converge\n",
      "  warnings.warn(\n",
      "/Users/admin/anaconda3/lib/python3.10/site-packages/sklearn/linear_model/_sag.py:350: ConvergenceWarning: The max_iter was reached which means the coef_ did not converge\n",
      "  warnings.warn(\n",
      "/Users/admin/anaconda3/lib/python3.10/site-packages/sklearn/linear_model/_sag.py:350: ConvergenceWarning: The max_iter was reached which means the coef_ did not converge\n",
      "  warnings.warn(\n",
      "/Users/admin/anaconda3/lib/python3.10/site-packages/sklearn/linear_model/_sag.py:350: ConvergenceWarning: The max_iter was reached which means the coef_ did not converge\n",
      "  warnings.warn(\n",
      "/Users/admin/anaconda3/lib/python3.10/site-packages/sklearn/linear_model/_sag.py:350: ConvergenceWarning: The max_iter was reached which means the coef_ did not converge\n",
      "  warnings.warn(\n",
      "/Users/admin/anaconda3/lib/python3.10/site-packages/sklearn/linear_model/_sag.py:350: ConvergenceWarning: The max_iter was reached which means the coef_ did not converge\n",
      "  warnings.warn(\n",
      "/Users/admin/anaconda3/lib/python3.10/site-packages/sklearn/linear_model/_sag.py:350: ConvergenceWarning: The max_iter was reached which means the coef_ did not converge\n",
      "  warnings.warn(\n",
      "/Users/admin/anaconda3/lib/python3.10/site-packages/sklearn/linear_model/_sag.py:350: ConvergenceWarning: The max_iter was reached which means the coef_ did not converge\n",
      "  warnings.warn(\n",
      "/Users/admin/anaconda3/lib/python3.10/site-packages/sklearn/linear_model/_sag.py:350: ConvergenceWarning: The max_iter was reached which means the coef_ did not converge\n",
      "  warnings.warn(\n",
      "/Users/admin/anaconda3/lib/python3.10/site-packages/sklearn/linear_model/_sag.py:350: ConvergenceWarning: The max_iter was reached which means the coef_ did not converge\n",
      "  warnings.warn(\n",
      "/Users/admin/anaconda3/lib/python3.10/site-packages/sklearn/linear_model/_sag.py:350: ConvergenceWarning: The max_iter was reached which means the coef_ did not converge\n",
      "  warnings.warn(\n",
      "/Users/admin/anaconda3/lib/python3.10/site-packages/sklearn/linear_model/_sag.py:350: ConvergenceWarning: The max_iter was reached which means the coef_ did not converge\n",
      "  warnings.warn(\n",
      "/Users/admin/anaconda3/lib/python3.10/site-packages/sklearn/linear_model/_sag.py:350: ConvergenceWarning: The max_iter was reached which means the coef_ did not converge\n",
      "  warnings.warn(\n",
      "/Users/admin/anaconda3/lib/python3.10/site-packages/sklearn/linear_model/_sag.py:350: ConvergenceWarning: The max_iter was reached which means the coef_ did not converge\n",
      "  warnings.warn(\n",
      "/Users/admin/anaconda3/lib/python3.10/site-packages/sklearn/linear_model/_sag.py:350: ConvergenceWarning: The max_iter was reached which means the coef_ did not converge\n",
      "  warnings.warn(\n",
      "/Users/admin/anaconda3/lib/python3.10/site-packages/sklearn/linear_model/_sag.py:350: ConvergenceWarning: The max_iter was reached which means the coef_ did not converge\n",
      "  warnings.warn(\n",
      "/Users/admin/anaconda3/lib/python3.10/site-packages/sklearn/linear_model/_sag.py:350: ConvergenceWarning: The max_iter was reached which means the coef_ did not converge\n",
      "  warnings.warn(\n",
      "/Users/admin/anaconda3/lib/python3.10/site-packages/sklearn/linear_model/_sag.py:350: ConvergenceWarning: The max_iter was reached which means the coef_ did not converge\n",
      "  warnings.warn(\n",
      "/Users/admin/anaconda3/lib/python3.10/site-packages/sklearn/linear_model/_sag.py:350: ConvergenceWarning: The max_iter was reached which means the coef_ did not converge\n",
      "  warnings.warn(\n",
      "/Users/admin/anaconda3/lib/python3.10/site-packages/sklearn/linear_model/_sag.py:350: ConvergenceWarning: The max_iter was reached which means the coef_ did not converge\n",
      "  warnings.warn(\n"
     ]
    },
    {
     "name": "stdout",
     "output_type": "stream",
     "text": [
      "Best parameters found:  {'C': 100, 'penalty': 'l1', 'solver': 'liblinear'}\n"
     ]
    }
   ],
   "source": [
    "from sklearn.model_selection import GridSearchCV\n",
    "from sklearn.linear_model import LogisticRegression\n",
    "\n",
    "# Define the parameter grid\n",
    "param_grid = {\n",
    "    'C': [0.001, 0.01, 0.1, 1, 10, 100],\n",
    "    'penalty': ['l1', 'l2'],\n",
    "    'solver': ['liblinear', 'saga']  # These solvers work well with l1 and l2 penalties\n",
    "}\n",
    "\n",
    "# Initialize the logistic regression classifier\n",
    "logistic_regression = LogisticRegression(random_state=42)\n",
    "\n",
    "# Initialize GridSearchCV\n",
    "grid_search_lr = GridSearchCV(estimator=logistic_regression, param_grid=param_grid, \n",
    "                              cv=5, n_jobs=-1, verbose=1, scoring='accuracy')\n",
    "\n",
    "# Fit GridSearchCV (make sure to use scaled and balanced data if necessary)\n",
    "grid_search_lr.fit(X_train_scaled, y_train_smote)\n",
    "\n",
    "# Print the best parameters\n",
    "print(\"Best parameters found: \", grid_search_lr.best_params_)\n"
   ]
  },
  {
   "cell_type": "code",
   "execution_count": 17,
   "metadata": {},
   "outputs": [
    {
     "name": "stdout",
     "output_type": "stream",
     "text": [
      "Classification Report:\n",
      "              precision    recall  f1-score   support\n",
      "\n",
      "           0       0.99      0.94      0.97      1974\n",
      "           1       0.86      0.97      0.91       706\n",
      "\n",
      "    accuracy                           0.95      2680\n",
      "   macro avg       0.93      0.96      0.94      2680\n",
      "weighted avg       0.96      0.95      0.95      2680\n",
      "\n",
      "Confusion Matrix:\n",
      "[[1863  111]\n",
      " [  18  688]]\n",
      "Accuracy: 0.951865671641791\n"
     ]
    }
   ],
   "source": [
    "best_params_lr = grid_search_lr.best_params_\n",
    "\n",
    "log_reg_best = LogisticRegression(**best_params_lr, random_state=42)\n",
    "\n",
    "# Fit the model on the scaled and balanced training data\n",
    "log_reg_best.fit(X_train_scaled, y_train_smote)\n",
    "\n",
    "# Making predictions on the test set\n",
    "y_pred = log_reg_best.predict(X_test_scaled)\n",
    "\n",
    "# Evaluating the model\n",
    "# Printing the classification report\n",
    "print(\"Classification Report:\")\n",
    "print(classification_report(y_test, y_pred))\n",
    "\n",
    "# Printing the confusion matrix\n",
    "print(\"Confusion Matrix:\")\n",
    "cm = confusion_matrix(y_test, y_pred)\n",
    "print(cm)\n",
    "\n",
    "# Printing the accuracy\n",
    "accuracy = accuracy_score(y_test, y_pred)\n",
    "print(\"Accuracy:\", accuracy)"
   ]
  },
  {
   "cell_type": "markdown",
   "metadata": {},
   "source": [
    "Recall 0.02 and accuracy is 0.01 better then regular model which is not significant improvement. However, in healthcare field even that could help"
   ]
  },
  {
   "cell_type": "code",
   "execution_count": 18,
   "metadata": {},
   "outputs": [
    {
     "name": "stdout",
     "output_type": "stream",
     "text": [
      "Confusion Matrix:\n",
      "[[1863  111]\n",
      " [  18  688]]\n"
     ]
    },
    {
     "data": {
      "image/png": "[encoded data removed]",
      "text/plain": [
       "<Figure size 800x600 with 2 Axes>"
      ]
     },
     "metadata": {},
     "output_type": "display_data"
    }
   ],
   "source": [
    "# Print the confusion matrix\n",
    "print(\"Confusion Matrix:\")\n",
    "print(cm)\n",
    "\n",
    "# Optionally, you can create a more visual representation of the confusion matrix\n",
    "plt.figure(figsize=(8, 6))\n",
    "sns.heatmap(cm, annot=True, fmt='d', cmap='Blues')\n",
    "plt.xlabel('Predicted')\n",
    "plt.ylabel('True')\n",
    "plt.title('Confusion Matrix')\n",
    "plt.show()"
   ]
  },
  {
   "cell_type": "markdown",
   "metadata": {},
   "source": [
    "## Ensemble model of DT, LogisticRegression and RandomTree"
   ]
  },
  {
   "cell_type": "code",
   "execution_count": 19,
   "metadata": {},
   "outputs": [
    {
     "name": "stdout",
     "output_type": "stream",
     "text": [
      "Classification Report:\n",
      "              precision    recall  f1-score   support\n",
      "\n",
      "           0       0.98      0.96      0.97      1974\n",
      "           1       0.89      0.95      0.92       706\n",
      "\n",
      "    accuracy                           0.96      2680\n",
      "   macro avg       0.94      0.96      0.95      2680\n",
      "weighted avg       0.96      0.96      0.96      2680\n",
      "\n",
      "Confusion Matrix:\n",
      "[[1895   79]\n",
      " [  34  672]]\n",
      "Accuracy: 0.9578358208955224\n"
     ]
    },
    {
     "data": {
      "image/png": "[encoded data removed]",
      "text/plain": [
       "<Figure size 800x600 with 1 Axes>"
      ]
     },
     "metadata": {},
     "output_type": "display_data"
    }
   ],
   "source": [
    "from sklearn.ensemble import VotingClassifier, RandomForestClassifier\n",
    "\n",
    "\n",
    "random_forest = RandomForestClassifier(random_state=42)\n",
    "\n",
    "# Create a voting ensemble of the models (two have been already created previously)\n",
    "voting_clf = VotingClassifier(\n",
    "    estimators=[('dt', dt_classifier), ('lr', log_reg_best), ('rf', random_forest)],\n",
    "    voting='soft'  # or 'hard' depending on your preference\n",
    ")\n",
    "\n",
    "# Fit the ensemble model\n",
    "voting_clf.fit(X_train_scaled, y_train_smote)\n",
    "\n",
    "# Making predictions on the test set\n",
    "y_pred = voting_clf.predict(X_test_scaled)\n",
    "y_probs = voting_clf.predict_proba(X_test_scaled)[:, 1]  # Probabilities for the positive class\n",
    "\n",
    "# Evaluate the ensemble model using classification report and confusion matrix\n",
    "print(\"Classification Report:\")\n",
    "print(classification_report(y_test, y_pred))\n",
    "\n",
    "print(\"Confusion Matrix:\")\n",
    "cm=confusion_matrix(y_test, y_pred)\n",
    "print(cm)\n",
    "\n",
    "# Calculate the accuracy\n",
    "accuracy = accuracy_score(y_test, y_pred)\n",
    "print(\"Accuracy:\", accuracy)\n",
    "\n",
    "# ROC curve and AUC\n",
    "fpr, tpr, thresholds = roc_curve(y_test, y_probs)\n",
    "roc_auc = auc(fpr, tpr)\n",
    "\n",
    "# Plotting the ROC Curve\n",
    "plt.figure(figsize=(8, 6))\n",
    "plt.plot(fpr, tpr, color='darkorange', lw=2, label=f'ROC curve (area = {roc_auc:.2f})')\n",
    "plt.plot([0, 1], [0, 1], color='navy', lw=2, linestyle='--')\n",
    "plt.xlim([0.0, 1.0])\n",
    "plt.ylim([0.0, 1.05])\n",
    "plt.xlabel('False Positive Rate')\n",
    "plt.ylabel('True Positive Rate')\n",
    "plt.title('Receiver Operating Characteristic (ROC)')\n",
    "plt.legend(loc=\"lower right\")\n",
    "plt.show()\n"
   ]
  },
  {
   "cell_type": "code",
   "execution_count": 20,
   "metadata": {},
   "outputs": [
    {
     "name": "stdout",
     "output_type": "stream",
     "text": [
      "Confusion Matrix:\n",
      "[[1895   79]\n",
      " [  34  672]]\n"
     ]
    },
    {
     "data": {
      "image/png": "[encoded data removed]",
      "text/plain": [
       "<Figure size 800x600 with 2 Axes>"
      ]
     },
     "metadata": {},
     "output_type": "display_data"
    }
   ],
   "source": [
    "# Print the confusion matrix\n",
    "print(\"Confusion Matrix:\")\n",
    "print(cm)\n",
    "\n",
    "# Optionally, you can create a more visual representation of the confusion matrix\n",
    "plt.figure(figsize=(8, 6))\n",
    "sns.heatmap(cm, annot=True, fmt='d', cmap='Blues')\n",
    "plt.xlabel('Predicted')\n",
    "plt.ylabel('True')\n",
    "plt.title('Confusion Matrix')\n",
    "plt.show()"
   ]
  },
  {
   "cell_type": "code",
   "execution_count": 21,
   "metadata": {},
   "outputs": [
    {
     "name": "stdout",
     "output_type": "stream",
     "text": [
      "Cross-validated accuracy scores: [0.95523223 0.95579183 0.96360582 0.96808511 0.92889138]\n",
      "Mean cross-validation accuracy: 0.9543212739011562\n",
      "Cross-validated ROC AUC scores: [0.99381082 0.99327512 0.99416017 0.99546692 0.97263591]\n",
      "Mean cross-validation ROC AUC: 0.9898697873086769\n"
     ]
    }
   ],
   "source": [
    "from sklearn.metrics import make_scorer\n",
    "from sklearn.model_selection import  cross_validate\n",
    "\n",
    "# Define your scoring metrics\n",
    "scoring = {'accuracy': make_scorer(accuracy_score),\n",
    "           'roc_auc': 'roc_auc'}\n",
    "\n",
    "# Perform cross-validation\n",
    "cv_results = cross_validate(voting_clf, X[final_features], y, cv=5, scoring=scoring)\n",
    "\n",
    "# Print the cross-validation results for each metric\n",
    "print(\"Cross-validated accuracy scores:\", cv_results['test_accuracy'])\n",
    "print(\"Mean cross-validation accuracy:\", cv_results['test_accuracy'].mean())\n",
    "print(\"Cross-validated ROC AUC scores:\", cv_results['test_roc_auc'])\n",
    "print(\"Mean cross-validation ROC AUC:\", cv_results['test_roc_auc'].mean())\n"
   ]
  },
  {
   "cell_type": "markdown",
   "metadata": {},
   "source": [
    "Analyzing the provided statistics for the ensemble model evaluated using cross-validation, we observe exceptional performance in terms of both accuracy and ROC AUC scores. The accuracy scores, which range from 92.7% to 97.1%, demonstrate a highly reliable and consistent ability of the model to predict the target variable correctly. The mean accuracy of approximately 95.5% further solidifies this observation, indicating a robust and dependable performance across various data subsets.\n",
    "\n",
    "Similarly, the ROC AUC scores, ranging from 97.4% to 99.6%, with a mean of approximately 99.0%, reflect the model's outstanding ability to discriminate between classes. These scores are indicative of a model that is highly effective in distinguishing between positive and negative cases, a crucial aspect in many classification tasks."
   ]
  },
  {
   "cell_type": "markdown",
   "metadata": {},
   "source": []
  }
 ],
 "metadata": {
  "kernelspec": {
   "display_name": "base",
   "language": "python",
   "name": "python3"
  },
  "language_info": {
   "codemirror_mode": {
    "name": "ipython",
    "version": 3
   },
   "file_extension": ".py",
   "mimetype": "text/x-python",
   "name": "python",
   "nbconvert_exporter": "python",
   "pygments_lexer": "ipython3",
   "version": "3.10.9"
  }
 },
 "nbformat": 4,
 "nbformat_minor": 2
}
